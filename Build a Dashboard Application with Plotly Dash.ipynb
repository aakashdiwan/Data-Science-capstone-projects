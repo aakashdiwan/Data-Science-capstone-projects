{
    "cells": [
        {
            "cell_type": "code",
            "execution_count": 2,
            "metadata": {},
            "outputs": [
                {
                    "name": "stdout",
                    "output_type": "stream",
                    "text": "Collecting dash\n  Downloading dash-2.1.0-py3-none-any.whl (7.4 MB)\n\u001b[K     |\u2588\u2588\u2588\u2588\u2588\u2588\u2588\u2588\u2588\u2588\u2588\u2588\u2588\u2588\u2588\u2588\u2588\u2588\u2588\u2588\u2588\u2588\u2588\u2588\u2588\u2588\u2588\u2588\u2588\u2588\u2588\u2588| 7.4 MB 17.6 MB/s eta 0:00:01\n\u001b[?25hCollecting plotly>=5.0.0\n  Downloading plotly-5.6.0-py2.py3-none-any.whl (27.7 MB)\n\u001b[K     |\u2588\u2588\u2588\u2588\u2588\u2588\u2588\u2588\u2588\u2588\u2588\u2588\u2588\u2588\u2588\u2588\u2588\u2588\u2588\u2588\u2588\u2588\u2588\u2588\u2588\u2588\u2588\u2588\u2588\u2588\u2588\u2588| 27.7 MB 58.0 MB/s eta 0:00:01\n\u001b[?25hCollecting Flask>=1.0.4\n  Downloading Flask-2.0.3-py3-none-any.whl (95 kB)\n\u001b[K     |\u2588\u2588\u2588\u2588\u2588\u2588\u2588\u2588\u2588\u2588\u2588\u2588\u2588\u2588\u2588\u2588\u2588\u2588\u2588\u2588\u2588\u2588\u2588\u2588\u2588\u2588\u2588\u2588\u2588\u2588\u2588\u2588| 95 kB 12.1 MB/s eta 0:00:01\n\u001b[?25hCollecting dash-core-components==2.0.0\n  Downloading dash_core_components-2.0.0.tar.gz (3.4 kB)\nCollecting dash-table==5.0.0\n  Downloading dash_table-5.0.0.tar.gz (3.4 kB)\nCollecting flask-compress\n  Downloading Flask_Compress-1.10.1-py3-none-any.whl (7.9 kB)\nCollecting dash-html-components==2.0.0\n  Downloading dash_html_components-2.0.0.tar.gz (3.8 kB)\nRequirement already satisfied: click>=7.1.2 in /opt/conda/envs/Python-3.8-main/lib/python3.8/site-packages (from Flask>=1.0.4->dash) (7.1.2)\nCollecting itsdangerous>=2.0\n  Downloading itsdangerous-2.0.1-py3-none-any.whl (18 kB)\nRequirement already satisfied: Werkzeug>=2.0 in /opt/conda/envs/Python-3.8-main/lib/python3.8/site-packages (from Flask>=1.0.4->dash) (2.0.1)\nRequirement already satisfied: Jinja2>=3.0 in /opt/conda/envs/Python-3.8-main/lib/python3.8/site-packages (from Flask>=1.0.4->dash) (3.0.0)\nRequirement already satisfied: MarkupSafe>=2.0.0rc2 in /opt/conda/envs/Python-3.8-main/lib/python3.8/site-packages (from Jinja2>=3.0->Flask>=1.0.4->dash) (2.0.1)\nCollecting tenacity>=6.2.0\n  Downloading tenacity-8.0.1-py3-none-any.whl (24 kB)\nRequirement already satisfied: six in /opt/conda/envs/Python-3.8-main/lib/python3.8/site-packages (from plotly>=5.0.0->dash) (1.15.0)\nCollecting brotli\n  Downloading Brotli-1.0.9-cp38-cp38-manylinux1_x86_64.whl (357 kB)\n\u001b[K     |\u2588\u2588\u2588\u2588\u2588\u2588\u2588\u2588\u2588\u2588\u2588\u2588\u2588\u2588\u2588\u2588\u2588\u2588\u2588\u2588\u2588\u2588\u2588\u2588\u2588\u2588\u2588\u2588\u2588\u2588\u2588\u2588| 357 kB 52.4 MB/s eta 0:00:01\n\u001b[?25hBuilding wheels for collected packages: dash-core-components, dash-html-components, dash-table\n  Building wheel for dash-core-components (setup.py) ... \u001b[?25ldone\n\u001b[?25h  Created wheel for dash-core-components: filename=dash_core_components-2.0.0-py3-none-any.whl size=3804 sha256=c3ad4161a6d002060f5845edd40bb2b1ac28555409ab6b6c07da65f7fdfeae9b\n  Stored in directory: /tmp/wsuser/.cache/pip/wheels/52/e4/f3/16724791571a955a46d54650510c98c04ab7d339626aee27cc\n  Building wheel for dash-html-components (setup.py) ... \u001b[?25ldone\n\u001b[?25h  Created wheel for dash-html-components: filename=dash_html_components-2.0.0-py3-none-any.whl size=4069 sha256=ad025cc468ed3738c557a3404029cea2713ce43805c75d0a1ad379ba5838bb72\n  Stored in directory: /tmp/wsuser/.cache/pip/wheels/73/d8/8d/92f612c03c895f19bcc56a6c54be7bb41aaa698012a5624f60\n  Building wheel for dash-table (setup.py) ... \u001b[?25ldone\n\u001b[?25h  Created wheel for dash-table: filename=dash_table-5.0.0-py3-none-any.whl size=3897 sha256=7a7b80a358cb8a930e17f098c19a86ae49d084069b5b8ad1910ef006f6ac0b0f\n  Stored in directory: /tmp/wsuser/.cache/pip/wheels/a6/fb/f5/4adf241f384634f52028f15eab6a325e77b8766a0a00816bbf\nSuccessfully built dash-core-components dash-html-components dash-table\nInstalling collected packages: itsdangerous, tenacity, Flask, brotli, plotly, flask-compress, dash-table, dash-html-components, dash-core-components, dash\n  Attempting uninstall: plotly\n    Found existing installation: plotly 4.14.3\n    Uninstalling plotly-4.14.3:\n      Successfully uninstalled plotly-4.14.3\nSuccessfully installed Flask-2.0.3 brotli-1.0.9 dash-2.1.0 dash-core-components-2.0.0 dash-html-components-2.0.0 dash-table-5.0.0 flask-compress-1.10.1 itsdangerous-2.0.1 plotly-5.6.0 tenacity-8.0.1\nNote: you may need to restart the kernel to use updated packages.\n"
                }
            ],
            "source": "pip install dash"
        },
        {
            "cell_type": "code",
            "execution_count": 3,
            "metadata": {},
            "outputs": [
                {
                    "name": "stdout",
                    "output_type": "stream",
                    "text": "--2022-02-17 10:03:02--  https://cf-courses-data.s3.us.cloud-object-storage.appdomain.cloud/IBM-DS0321EN-SkillsNetwork/datasets/spacex_launch_dash.csv\nResolving cf-courses-data.s3.us.cloud-object-storage.appdomain.cloud (cf-courses-data.s3.us.cloud-object-storage.appdomain.cloud)... 198.23.119.245\nConnecting to cf-courses-data.s3.us.cloud-object-storage.appdomain.cloud (cf-courses-data.s3.us.cloud-object-storage.appdomain.cloud)|198.23.119.245|:443... connected.\nHTTP request sent, awaiting response... 200 OK\nLength: 3033 (3.0K) [text/csv]\nSaving to: \u2018spacex_launch_dash.csv\u2019\n\nspacex_launch_dash. 100%[===================>]   2.96K  --.-KB/s    in 0s      \n\n2022-02-17 10:03:02 (67.4 MB/s) - \u2018spacex_launch_dash.csv\u2019 saved [3033/3033]\n\n"
                }
            ],
            "source": "!wget \"https://cf-courses-data.s3.us.cloud-object-storage.appdomain.cloud/IBM-DS0321EN-SkillsNetwork/datasets/spacex_launch_dash.csv\""
        },
        {
            "cell_type": "code",
            "execution_count": null,
            "metadata": {},
            "outputs": [
                {
                    "name": "stdout",
                    "output_type": "stream",
                    "text": "Dash is running on http://127.0.0.1:8080/\n\nDash is running on http://127.0.0.1:8080/\n\n * Serving Flask app '__main__' (lazy loading)\n * Environment: production\n\u001b[31m   WARNING: This is a development server. Do not use it in a production deployment.\u001b[0m\n\u001b[2m   Use a production WSGI server instead.\u001b[0m\n * Debug mode: off\n"
                },
                {
                    "name": "stderr",
                    "output_type": "stream",
                    "text": " * Running on http://127.0.0.1:8080/ (Press CTRL+C to quit)\n"
                }
            ],
            "source": "import pandas as pd\nimport dash\nimport dash_html_components as html\nimport dash_core_components as dcc\nfrom dash.dependencies import Input, Output, State\nimport plotly.graph_objects as go\nimport plotly.express as px\nfrom dash import no_update\n\n# Read the airline data into pandas dataframe\nspacex_df = pd.read_csv(\"spacex_launch_dash.csv\")\nmax_payload = spacex_df['Payload Mass (kg)'].max()\nmin_payload = spacex_df['Payload Mass (kg)'].min()\n\n# Create a dash application\napp = dash.Dash(__name__)\n\n# Create an app layout\nlaunch_sites = []\nlaunch_sites.append({'label': 'All Sites', 'value': 'All Sites'})\nfor item in spacex_df[\"Launch Site\"].value_counts().index:\n    launch_sites.append({'label': item, 'value': item})\napp.layout = html.Div(children=[html.H1('SpaceX Launch Records Dashboard',\n                                        style={'textAlign': 'center', 'color': '#503D36',\n                                               'font-size': 40}),\n                                # TASK 1: Add a dropdown list to enable Launch Site selection\n                                # The default select value is for ALL sites\n                                dcc.Dropdown(id='site-dropdown', options = launch_sites, value = 'All Sites', placeholder = \"Select a Launch Site here\", searchable = True),\n                                html.Br(),\n\n                                # TASK 2: Add a pie chart to show the total successful launches count for all sites\n                                # If a specific launch site was selected, show the Success vs. Failed counts for the site\n                                html.Div(dcc.Graph(id='success-pie-chart')),\n                                html.Br(),\n\n                                html.P(\"Payload range (Kg):\"),\n                                # TASK 3: Add a slider to select payload range\n                                dcc.RangeSlider(id='payload-slider', min = 0, max = 10000, step = 1000, value = [min_payload, max_payload], marks={ 2500: {'label': '2500 (Kg)'}, 5000: {'label': '5000 (Kg)'}, 7500: {'label': '7500 (Kg)'}}),\n\n                                # TASK 4: Add a scatter chart to show the correlation between payload and launch success\n                                html.Div(dcc.Graph(id='success-payload-scatter-chart')),\n                                ])\n\n# TASK 2:\n# Add a callback function for `site-dropdown` as input, `success-pie-chart` as output\n@app.callback( Output(component_id='success-pie-chart', component_property='figure'),\n               Input(component_id='site-dropdown', component_property='value')\n)\n# Add computation to callback function and return graph\ndef select(inputt):\n    if inputt == 'All Sites':\n        new_df = spacex_df.groupby(['Launch Site'])[\"class\"].sum().to_frame()\n        new_df = new_df.reset_index()\n        fig = px.pie(new_df, values='class', names='Launch Site', title='Total Success Launches by Site')\n    else:\n        new_df = spacex_df[spacex_df[\"Launch Site\"] == inputt][\"class\"].value_counts().to_frame()\n        new_df[\"name\"] = [\"Failure\", \"Success\"]\n        fig = px.pie(new_df, values='class', names='name', title='Total Success Launches for ' + inputt)\n    return fig\n\n# TASK 4:\n# Add a callback function for `site-dropdown` and `payload-slider` as inputs, `success-payload-scatter-chart` as output\n@app.callback( Output(component_id='success-payload-scatter-chart', component_property='figure'),\n               Input(component_id='site-dropdown', component_property='value'), Input(component_id='payload-slider', component_property='value') \n)\ndef scatter(input1, input2):\n    print(input1)\n    print(input2)\n    if input1 == 'All Sites':\n        new_df = spacex_df\n        new_df2 = new_df[new_df[\"Payload Mass (kg)\"] >= input2[0]]\n        new_df3 = new_df2[new_df[\"Payload Mass (kg)\"] <= input2[1]]\n        fig2 = px.scatter(new_df3, y=\"class\", x=\"Payload Mass (kg)\", color=\"Booster Version Category\")\n    else:\n        new_df = spacex_df[spacex_df[\"Launch Site\"] == input1]\n        new_df2 = new_df[new_df[\"Payload Mass (kg)\"] >= input2[0]]\n        new_df3 = new_df2[new_df[\"Payload Mass (kg)\"] <= input2[1]]\n        #new_df2 = new_df[new_df[\"Payload Mass (kg)\"] >= input2[0] & new_df[\"Payload Mass (kg)\"] <= input2[1]]\n        fig2 = px.scatter(new_df3, y=\"class\", x=\"Payload Mass (kg)\", color=\"Booster Version Category\")\n    return fig2\n\n\n# Run the app\nif __name__ == '__main__':\n    app.run_server(port=8080)"
        },
        {
            "cell_type": "code",
            "execution_count": null,
            "metadata": {},
            "outputs": [],
            "source": ""
        }
    ],
    "metadata": {
        "kernelspec": {
            "display_name": "Python 3.8",
            "language": "python",
            "name": "python3"
        },
        "language_info": {
            "codemirror_mode": {
                "name": "ipython",
                "version": 3
            },
            "file_extension": ".py",
            "mimetype": "text/x-python",
            "name": "python",
            "nbconvert_exporter": "python",
            "pygments_lexer": "ipython3",
            "version": "3.8.12"
        }
    },
    "nbformat": 4,
    "nbformat_minor": 1
}